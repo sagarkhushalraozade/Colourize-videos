{
  "nbformat": 4,
  "nbformat_minor": 0,
  "metadata": {
    "colab": {
      "name": "Custom-DeOldify-VideoColorizer-Colab.ipynb",
      "provenance": [],
      "collapsed_sections": [],
      "include_colab_link": true
    },
    "kernelspec": {
      "display_name": "Python 3",
      "language": "python",
      "name": "python3"
    },
    "language_info": {
      "codemirror_mode": {
        "name": "ipython",
        "version": 3
      },
      "file_extension": ".py",
      "mimetype": "text/x-python",
      "name": "python",
      "nbconvert_exporter": "python",
      "pygments_lexer": "ipython3",
      "version": "3.7.6"
    }
  },
  "cells": [
    {
      "cell_type": "markdown",
      "metadata": {
        "id": "view-in-github",
        "colab_type": "text"
      },
      "source": [
        "<a href=\"https://colab.research.google.com/github/sagarkhushalraozade/Colourize-videos/blob/main/Custom_DeOldify_VideoColorizer_Colab.ipynb\" target=\"_parent\"><img src=\"https://colab.research.google.com/assets/colab-badge.svg\" alt=\"Open In Colab\"/></a>"
      ]
    },
    {
      "cell_type": "markdown",
      "metadata": {
        "id": "U-SmwsQANtHF"
      },
      "source": [
        "# DeOldify - Colorize your own videos\n",
        "\n",
        "A user-friendly simplified version of the original DeOldify Colab Notebook to quickly convert a youtube black and white video to color with audio that exports the result to google drive.\n",
        "\n",
        "Author: Ojas Dileep Sawant"
      ]
    },
    {
      "cell_type": "markdown",
      "metadata": {
        "id": "MJCyRc0q_s0O"
      },
      "source": [
        "**Credits**\n",
        "\n",
        "**Robert Bell**, **Dana Kelley** and people contributing to https://github.com/jantic/DeOldify.git\n",
        "\n",
        "For more customizations and features, visit the original Colab Notebook: \n",
        "\n",
        "https://colab.research.google.com/github/jantic/DeOldify/blob/master/VideoColorizerColab.ipynb"
      ]
    },
    {
      "cell_type": "markdown",
      "metadata": {
        "id": "l8OdQZnHAQab"
      },
      "source": [
        "## **Prerequisite:**\n",
        "\n",
        "Before proceeding further:\n",
        "1. Click on **Runtime** menu on the top > **Change runtime type** > **GPU** > **Save**\n",
        "2. Then, click **Connect** on the top right.\n"
      ]
    },
    {
      "cell_type": "markdown",
      "metadata": {
        "id": "gmnU3EK8CyLC"
      },
      "source": [
        "Before beginning, we will configure input/output settings and **mount** your **Google Drive Storage** to ensure the results are backed up before the session disconnects within the **12 hour limit** of Colab free session.\n",
        "\n",
        "When asked click open the url, **login** to your google drive in the new tab, hit **Allow** and copy-paste the authorization code and hit **Enter**.\n",
        "\n",
        "Update the URL link below and then run this section once everytime after opening this notebook."
      ]
    },
    {
      "cell_type": "code",
      "metadata": {
        "id": "EMakxEYMF4pB",
        "cellView": "form"
      },
      "source": [
        "#@ Configure Settings\n",
        "\n",
        "#@markdown ### Input Youtube URL\n",
        "#@markdown Default url is Arrival of a Train at La Ciotat (The Lumière Brothers, 1895)\n",
        "INPUT_URL = \"https://youtu.be/1dgLEDdFddk\" #@param{type:\"string\"}\n",
        "\n",
        "#@markdown ### Output Directory\n",
        "#@markdown Path (relative to the root of your Google Drive) e.g. \"My Drive/DeOldify_Data\" \n",
        "OUTPUT_DIR = \"DeOldify_Data\" #@param{type:\"string\"}\n",
        "\n",
        "from google.colab import drive\n",
        "drive.mount('/gdrive')"
      ],
      "execution_count": null,
      "outputs": []
    },
    {
      "cell_type": "markdown",
      "metadata": {
        "id": "SYXPC23CKl6D"
      },
      "source": [
        "## Setup\n",
        "**Click** this text section to ensure it is highlighted/selected and from the **Runtime menu** on top click on **Run After**"
      ]
    },
    {
      "cell_type": "code",
      "metadata": {
        "id": "ldnSHjsnJ9qZ"
      },
      "source": [
        "!git clone https://github.com/jantic/DeOldify.git DeOldify"
      ],
      "execution_count": null,
      "outputs": []
    },
    {
      "cell_type": "code",
      "metadata": {
        "id": "s_T_qZsFQJHJ"
      },
      "source": [
        "cd DeOldify"
      ],
      "execution_count": null,
      "outputs": []
    },
    {
      "cell_type": "code",
      "metadata": {
        "id": "00_GcC_trpdE"
      },
      "source": [
        "#NOTE:  This must be the first call in order to work properly!\n",
        "from deoldify import device\n",
        "from deoldify.device_id import DeviceId\n",
        "#choices:  CPU, GPU0...GPU7\n",
        "device.set(device=DeviceId.GPU0)\n",
        "\n",
        "import torch\n",
        "\n",
        "if not torch.cuda.is_available():\n",
        "    print('GPU not available.')\n",
        "\n",
        "from os import path"
      ],
      "execution_count": null,
      "outputs": []
    },
    {
      "cell_type": "code",
      "metadata": {
        "id": "Lsx7xCXNSVt6"
      },
      "source": [
        "!pip install -r colab_requirements.txt"
      ],
      "execution_count": null,
      "outputs": []
    },
    {
      "cell_type": "code",
      "metadata": {
        "id": "MsJa69CMwj3l"
      },
      "source": [
        "import fastai\n",
        "from deoldify.visualize import *\n",
        "from pathlib import Path\n",
        "torch.backends.cudnn.benchmark=True\n",
        "import warnings\n",
        "warnings.filterwarnings(\"ignore\", category=UserWarning, message=\".*?Your .*? set is empty.*?\")"
      ],
      "execution_count": null,
      "outputs": []
    },
    {
      "cell_type": "code",
      "metadata": {
        "id": "ncpWqEXINtH6"
      },
      "source": [
        "!mkdir 'models'\n",
        "!wget https://www.dropbox.com/s/336vn9y4qwyg9yz/ColorizeVideo_gen.pth?dl=0 -O ./models/ColorizeVideo_gen.pth"
      ],
      "execution_count": null,
      "outputs": []
    },
    {
      "cell_type": "code",
      "metadata": {
        "id": "xBFR_KEaNtH_"
      },
      "source": [
        "!wget https://media.githubusercontent.com/media/jantic/DeOldify/master/resource_images/watermark.png -O ./resource_images/watermark.png"
      ],
      "execution_count": null,
      "outputs": []
    },
    {
      "cell_type": "code",
      "metadata": {
        "id": "tzHVnegp21hC"
      },
      "source": [
        "colorizer = get_video_colorizer()"
      ],
      "execution_count": null,
      "outputs": []
    },
    {
      "cell_type": "markdown",
      "metadata": {
        "id": "F8ftq5NiMO8s"
      },
      "source": [
        "## Run"
      ]
    },
    {
      "cell_type": "code",
      "metadata": {
        "id": "CXLccFJQNtIL"
      },
      "source": [
        "source_url = INPUT_URL\n",
        "render_factor = 21\n",
        "watermarked = True\n",
        "\n",
        "if source_url is not None and source_url !='':\n",
        "    video_path = colorizer.colorize_from_url(source_url, 'video.mp4', render_factor, watermarked=watermarked)\n",
        "    show_video_in_notebook(video_path)\n",
        "else:\n",
        "    print('Provide a video url and try again.')"
      ],
      "execution_count": null,
      "outputs": []
    },
    {
      "cell_type": "markdown",
      "metadata": {
        "id": "cgMHNUfsMTEW"
      },
      "source": [
        "## Export the source files and result to google drive."
      ]
    },
    {
      "cell_type": "code",
      "metadata": {
        "id": "JELUEQqbjwjQ"
      },
      "source": [
        "!mkdir -p \"/gdrive/My Drive/$OUTPUT_DIR/result\" \"/gdrive/My Drive/$OUTPUT_DIR/source\"\n",
        "%cp /content/DeOldify/video/result/* /gdrive/My\\ Drive/$OUTPUT_DIR/result\n",
        "%cp /content/DeOldify/video/source/* /gdrive/My\\ Drive/$OUTPUT_DIR/source"
      ],
      "execution_count": null,
      "outputs": []
    },
    {
      "cell_type": "code",
      "metadata": {
        "id": "4kV4xqlBMk8t"
      },
      "source": [
        "!echo \"Conversion and Google Drive Export completed at My Drive/\"$OUTPUT_DIR"
      ],
      "execution_count": null,
      "outputs": []
    }
  ]
}